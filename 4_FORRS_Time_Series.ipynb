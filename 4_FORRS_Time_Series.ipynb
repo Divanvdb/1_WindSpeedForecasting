{
 "cells": [
  {
   "cell_type": "code",
   "execution_count": 22,
   "metadata": {},
   "outputs": [],
   "source": [
    "import pandas as pd\n",
    "import numpy as np\n",
    "\n",
    "import torch\n",
    "import torch.nn as nn\n",
    "from torch.utils.data import DataLoader, Dataset\n",
    "\n",
    "from sklearn.model_selection import train_test_split\n",
    "\n",
    "import matplotlib.pyplot as plt\n",
    "\n",
    "import lightning as L\n",
    "from lightning.pytorch.callbacks import ModelCheckpoint, EarlyStopping\n",
    "from lightning.pytorch import Trainer\n",
    "\n",
    "import datetime\n",
    "\n",
    "\n",
    "df = pd.read_csv('data_850\\sere_wind_speeds_2018_2022.csv')"
   ]
  },
  {
   "cell_type": "code",
   "execution_count": 97,
   "metadata": {},
   "outputs": [
    {
     "data": {
      "text/plain": [
       "array([4, 7])"
      ]
     },
     "execution_count": 97,
     "metadata": {},
     "output_type": "execute_result"
    }
   ],
   "source": [
    "x = np.arange(100)\n",
    "\n",
    "x[4:10:3]"
   ]
  },
  {
   "cell_type": "code",
   "execution_count": 111,
   "metadata": {},
   "outputs": [],
   "source": [
    "class TimeSeriesDataset(Dataset):\n",
    "    def __init__(self, df, window_size=10, steps_ahead=1, data_split='train', intervals = 1):\n",
    "        self.window_size = window_size\n",
    "        self.steps_ahead = steps_ahead\n",
    "        self.df = df\n",
    "\n",
    "        self.mean = self.df['wspd'].mean()\n",
    "        self.std = self.df['wspd'].std()\n",
    "\n",
    "        self.data_split = data_split\n",
    "\n",
    "        self.interval = intervals\n",
    "\n",
    "        self.split_data()\n",
    "        self.normalize_data()\n",
    "\n",
    "    def __len__(self):\n",
    "        if self.data_split == 'train':\n",
    "            dataset_length = len(self.X_train)\n",
    "        elif self.data_split == 'val':\n",
    "            dataset_length = len(self.X_val)\n",
    "        elif self.data_split == 'test':\n",
    "            dataset_length = len(self.X_test)\n",
    "        else:\n",
    "            raise ValueError(\"data_split must be 'train', 'val', or 'test'\")\n",
    "        \n",
    "        total_window_size = self.window_size + self.steps_ahead\n",
    "        num_windows = dataset_length - total_window_size + 1  \n",
    "        \n",
    "        return max(0, num_windows) \n",
    "\n",
    "    def __getitem__(self, idx):\n",
    "        \"\"\"\n",
    "        Retrieves a sample from the specified dataset split.\n",
    "\n",
    "        Args:\n",
    "            idx (int): The index of the sample to retrieve.\n",
    "            data_split (str): The dataset split ('train', 'val', 'test'). Default is 'train'.\n",
    "\n",
    "        Returns:\n",
    "            Tuple[torch.Tensor, torch.Tensor, torch.Tensor]: A tuple containing features, forcings, and target.\n",
    "        \"\"\"\n",
    "        if self.data_split == 'train':\n",
    "            return self.X_train_t[idx:idx+self.window_size:self.interval], self.F_train_t[idx + self.window_size], self.X_train_t[idx + self.window_size:idx + self.window_size + self.steps_ahead:self.interval]\n",
    "        elif self.data_split == 'val':\n",
    "            return self.X_val_t[idx:idx+self.window_size:self.interval], self.F_val_t[idx + self.window_size], self.X_val_t[idx + self.window_size:idx + self.window_size + self.steps_ahead:self.interval]\n",
    "        elif self.data_split == 'test':\n",
    "            return self.X_test_t[idx:idx+self.window_size:self.interval], self.F_test_t[idx + self.window_size], self.X_test_t[idx + self.window_size:idx + self.window_size + self.steps_ahead:self.interval]\n",
    "        else:\n",
    "            raise ValueError(\"data_split must be 'train', 'val', or 'test'\")\n",
    " \n",
    "    def split_data(self, train_size=0.8, val_size=0.1):\n",
    "        wspd_data = self.df['wspd']\n",
    "        time_values = df['Time'].values\n",
    "        time_values = pd.to_datetime(time_values)\n",
    "\n",
    "        forcings = np.stack([time_values.hour, time_values.month], axis=-1)\n",
    "\n",
    "        self.X_train, self.X_test = train_test_split(wspd_data, train_size=train_size, shuffle=False)\n",
    "        self.X_train, self.X_val = train_test_split(self.X_train, test_size=val_size, shuffle=False)\n",
    "\n",
    "        self.F_train, self.F_test = train_test_split(forcings, train_size=train_size, shuffle=False)\n",
    "        self.F_train, self.F_val = train_test_split(self.F_train, test_size=val_size, shuffle=False)        \n",
    "\n",
    "    def normalize_data(self):\n",
    "        \n",
    "        self.X_train_t = (self.X_train - self.mean) / self.std\n",
    "        self.X_val_t = (self.X_val - self.mean) / self.std\n",
    "        self.X_test_t = (self.X_test - self.mean) / self.std\n",
    "\n",
    "        self.X_train_t = torch.tensor(self.X_train_t.values, dtype=torch.float32)\n",
    "        self.X_val_t = torch.tensor(self.X_val_t.values, dtype=torch.float32)\n",
    "        self.X_test_t = torch.tensor(self.X_test_t.values, dtype=torch.float32)\n",
    "\n",
    "        self.F_train_t = torch.tensor(self.F_train, dtype=torch.float32)\n",
    "        self.F_val_t = torch.tensor(self.F_val, dtype=torch.float32)\n",
    "        self.F_test_t = torch.tensor(self.F_test, dtype=torch.float32)\n",
    "\n",
    "    def plot_predictions(self, model, seed = 0):\n",
    "        x = self.X_test_t[seed:seed+self.window_size:self.interval]\n",
    "        F = self.F_test_t[seed + self.window_size]\n",
    "        y = self.X_test_t[seed + self.window_size:seed + self.window_size + self.steps_ahead:self.interval]\n",
    "\n",
    "        predictions = self.auto_regressive(model, x, F)\n",
    "\n",
    "        plt.plot(range(self.window_size), x)\n",
    "        plt.plot(range(self.window_size, self.window_size + self.steps_ahead), y)\n",
    "        plt.plot(range(self.window_size, self.window_size + self.steps_ahead), predictions.detach().numpy())\n",
    "        plt.show()\n",
    "\n",
    "    def auto_regressive(self, model, x, F):\n",
    "        predictions = []\n",
    "        for i in range(round(self.steps_ahead / self.interval)):\n",
    "            y_hat = model(x, F)\n",
    "\n",
    "            x = torch.cat([x[1:], y_hat], dim=-1)\n",
    "            \n",
    "            predictions.append(y_hat)\n",
    "\n",
    "        return torch.stack(predictions)"
   ]
  },
  {
   "cell_type": "code",
   "execution_count": 112,
   "metadata": {},
   "outputs": [],
   "source": [
    "class SimpleMLP(L.LightningModule):\n",
    "    def __init__(self, input_size, forcing_size, output_size, lr = 0.0001, steps = 1):\n",
    "        super(SimpleMLP, self).__init__()\n",
    "        self.save_hyperparameters()\n",
    "\n",
    "        self.fc1 = nn.Linear(input_size + forcing_size, 128)  \n",
    "        self.fc2 = nn.Linear(128, 64) \n",
    "        self.fc3 = nn.Linear(64, output_size) \n",
    "\n",
    "        self.loss_fn = nn.MSELoss()\n",
    "\n",
    "        self.steps = steps\n",
    "\n",
    "        self.lr = lr\n",
    "\n",
    "    def forward(self, X, F):\n",
    "        inputs = torch.cat((X, F), dim=-1)  \n",
    "\n",
    "        x = torch.relu(self.fc1(inputs)) \n",
    "        x = torch.relu(self.fc2(x))\n",
    "        x = self.fc3(x)  \n",
    "\n",
    "        return x\n",
    "    \n",
    "    def training_step(self, batch, batch_idx):\n",
    "        x, F, y = batch  \n",
    "\n",
    "        loss = self.auto_rollout(x, F, y)\n",
    "\n",
    "        self.log(\"train_loss\", loss, on_step=True, on_epoch=True) \n",
    "        return loss\n",
    "\n",
    "    def validation_step(self, batch, batch_idx):\n",
    "        x, F, y = batch  \n",
    " \n",
    "        loss = self.auto_rollout(x, F, y)\n",
    "\n",
    "        self.log(\"val_loss\", loss, on_step=False, on_epoch=True) \n",
    "        return loss\n",
    "    \n",
    "    def auto_rollout(self, x, F, y):\n",
    "\n",
    "        cumulative_loss = 0.0\n",
    "        current_input = x.clone()\n",
    "        current_F = F.clone()\n",
    "\n",
    "\n",
    "        for step in range(self.steps): \n",
    "            # print('Step: ', step)\n",
    "            \n",
    "            y_hat = self(current_input, current_F)\n",
    "\n",
    "            loss = self.loss_fn(y_hat, y[:, step])\n",
    "            cumulative_loss += loss  \n",
    "            \n",
    "            current_input = torch.cat((current_input[:, 1:], y_hat), dim=1)\n",
    "\n",
    "            hour = current_F[:, 0]\n",
    "            month = current_F[:, 1]\n",
    "            \n",
    "            hour = (hour + 1) % 24\n",
    "\n",
    "            current_F = torch.stack((hour, month), dim=1).float()\n",
    "\n",
    "        return cumulative_loss\n",
    "    \n",
    "    def configure_optimizers(self):\n",
    "        optimizer = torch.optim.AdamW(self.parameters(), lr= self.lr)\n",
    "\n",
    "        scheduler = torch.optim.lr_scheduler.ReduceLROnPlateau(optimizer, mode='min', patience=5, verbose=True)\n",
    "        \n",
    "        return {\"optimizer\": optimizer, \"lr_scheduler\": {\"scheduler\": scheduler, \"monitor\": \"val_loss\"}}"
   ]
  },
  {
   "cell_type": "code",
   "execution_count": 115,
   "metadata": {},
   "outputs": [],
   "source": [
    "window_size = 48\n",
    "steps_ahead = 24\n",
    "interval = 1\n",
    "\n",
    "time_series = TimeSeriesDataset(df, window_size=window_size, steps_ahead=steps_ahead, intervals=interval)\n",
    "\n",
    "model = SimpleMLP(input_size=window_size, forcing_size=2, output_size=1, lr=0.0001, steps=steps_ahead)"
   ]
  },
  {
   "cell_type": "code",
   "execution_count": 119,
   "metadata": {},
   "outputs": [
    {
     "name": "stderr",
     "output_type": "stream",
     "text": [
      "GPU available: False, used: False\n",
      "TPU available: False, using: 0 TPU cores\n",
      "IPU available: False, using: 0 IPUs\n",
      "HPU available: False, using: 0 HPUs\n"
     ]
    },
    {
     "name": "stdout",
     "output_type": "stream",
     "text": [
      "WARNING:tensorflow:From c:\\Users\\23603526\\AppData\\Local\\Programs\\Python\\Python311\\Lib\\site-packages\\keras\\src\\losses.py:2976: The name tf.losses.sparse_softmax_cross_entropy is deprecated. Please use tf.compat.v1.losses.sparse_softmax_cross_entropy instead.\n",
      "\n"
     ]
    },
    {
     "name": "stderr",
     "output_type": "stream",
     "text": [
      "c:\\Users\\23603526\\AppData\\Local\\Programs\\Python\\Python311\\Lib\\site-packages\\torch\\optim\\lr_scheduler.py:28: UserWarning: The verbose parameter is deprecated. Please use get_last_lr() to access the learning rate.\n",
      "  warnings.warn(\"The verbose parameter is deprecated. Please use get_last_lr() \"\n",
      "\n",
      "  | Name    | Type    | Params\n",
      "------------------------------------\n",
      "0 | fc1     | Linear  | 6.5 K \n",
      "1 | fc2     | Linear  | 8.3 K \n",
      "2 | fc3     | Linear  | 65    \n",
      "3 | loss_fn | MSELoss | 0     \n",
      "------------------------------------\n",
      "14.8 K    Trainable params\n",
      "0         Non-trainable params\n",
      "14.8 K    Total params\n",
      "0.059     Total estimated model params size (MB)\n"
     ]
    },
    {
     "data": {
      "application/vnd.jupyter.widget-view+json": {
       "model_id": "54b0ebda00ee45be9e9419b98029266b",
       "version_major": 2,
       "version_minor": 0
      },
      "text/plain": [
       "Sanity Checking: |          | 0/? [00:00<?, ?it/s]"
      ]
     },
     "metadata": {},
     "output_type": "display_data"
    },
    {
     "name": "stderr",
     "output_type": "stream",
     "text": [
      "c:\\Users\\23603526\\AppData\\Local\\Programs\\Python\\Python311\\Lib\\site-packages\\lightning\\pytorch\\trainer\\connectors\\data_connector.py:441: The 'val_dataloader' does not have many workers which may be a bottleneck. Consider increasing the value of the `num_workers` argument` to `num_workers=11` in the `DataLoader` to improve performance.\n",
      "c:\\Users\\23603526\\AppData\\Local\\Programs\\Python\\Python311\\Lib\\site-packages\\torch\\nn\\modules\\loss.py:535: UserWarning: Using a target size (torch.Size([32])) that is different to the input size (torch.Size([32, 1])). This will likely lead to incorrect results due to broadcasting. Please ensure they have the same size.\n",
      "  return F.mse_loss(input, target, reduction=self.reduction)\n",
      "c:\\Users\\23603526\\AppData\\Local\\Programs\\Python\\Python311\\Lib\\site-packages\\lightning\\pytorch\\trainer\\connectors\\data_connector.py:441: The 'train_dataloader' does not have many workers which may be a bottleneck. Consider increasing the value of the `num_workers` argument` to `num_workers=11` in the `DataLoader` to improve performance.\n"
     ]
    },
    {
     "data": {
      "application/vnd.jupyter.widget-view+json": {
       "model_id": "21661128ff664b458a93a9e80e8cb181",
       "version_major": 2,
       "version_minor": 0
      },
      "text/plain": [
       "Training: |          | 0/? [00:00<?, ?it/s]"
      ]
     },
     "metadata": {},
     "output_type": "display_data"
    },
    {
     "name": "stderr",
     "output_type": "stream",
     "text": [
      "c:\\Users\\23603526\\AppData\\Local\\Programs\\Python\\Python311\\Lib\\site-packages\\torch\\nn\\modules\\loss.py:535: UserWarning: Using a target size (torch.Size([26])) that is different to the input size (torch.Size([26, 1])). This will likely lead to incorrect results due to broadcasting. Please ensure they have the same size.\n",
      "  return F.mse_loss(input, target, reduction=self.reduction)\n"
     ]
    },
    {
     "data": {
      "application/vnd.jupyter.widget-view+json": {
       "model_id": "d6863f733888486f9eb64dd05c0b12fd",
       "version_major": 2,
       "version_minor": 0
      },
      "text/plain": [
       "Validation: |          | 0/? [00:00<?, ?it/s]"
      ]
     },
     "metadata": {},
     "output_type": "display_data"
    },
    {
     "name": "stderr",
     "output_type": "stream",
     "text": [
      "c:\\Users\\23603526\\AppData\\Local\\Programs\\Python\\Python311\\Lib\\site-packages\\torch\\nn\\modules\\loss.py:535: UserWarning: Using a target size (torch.Size([11])) that is different to the input size (torch.Size([11, 1])). This will likely lead to incorrect results due to broadcasting. Please ensure they have the same size.\n",
      "  return F.mse_loss(input, target, reduction=self.reduction)\n",
      "c:\\Users\\23603526\\AppData\\Local\\Programs\\Python\\Python311\\Lib\\site-packages\\lightning\\pytorch\\trainer\\call.py:54: Detected KeyboardInterrupt, attempting graceful shutdown...\n"
     ]
    }
   ],
   "source": [
    "train_loader = DataLoader(TimeSeriesDataset(df, window_size=window_size, steps_ahead=steps_ahead, data_split='train', intervals=interval), batch_size=32, shuffle=True)  \n",
    "val_loader = DataLoader(TimeSeriesDataset(df, window_size=window_size, steps_ahead=steps_ahead, data_split='val', intervals=interval), batch_size=32, shuffle=False)\n",
    "\n",
    "checkpoint_callback = ModelCheckpoint(monitor='val_loss', filename='best_time_series',  save_top_k=1, mode='min')\n",
    "early_stop_callback = EarlyStopping(monitor='val_loss', patience=10, mode='min')\n",
    "\n",
    "trainer = Trainer(max_epochs=100, callbacks=[checkpoint_callback, early_stop_callback])\n",
    "\n",
    "trainer.fit(model, train_loader, val_loader)"
   ]
  },
  {
   "cell_type": "code",
   "execution_count": 117,
   "metadata": {},
   "outputs": [
    {
     "data": {
      "image/png": "[encoded data removed]",
      "text/plain": [
       "<Figure size 640x480 with 1 Axes>"
      ]
     },
     "metadata": {},
     "output_type": "display_data"
    }
   ],
   "source": [
    "time_series.plot_predictions(model, seed=0)"
   ]
  }
 ],
 "metadata": {
  "kernelspec": {
   "display_name": "Python 3",
   "language": "python",
   "name": "python3"
  },
  "language_info": {
   "codemirror_mode": {
    "name": "ipython",
    "version": 3
   },
   "file_extension": ".py",
   "mimetype": "text/x-python",
   "name": "python",
   "nbconvert_exporter": "python",
   "pygments_lexer": "ipython3",
   "version": "3.11.7"
  }
 },
 "nbformat": 4,
 "nbformat_minor": 2
}
