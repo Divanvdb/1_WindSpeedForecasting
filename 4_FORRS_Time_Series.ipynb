{
 "cells": [
  {
   "cell_type": "code",
   "execution_count": 1,
   "metadata": {},
   "outputs": [],
   "source": [
    "# import xarray as xr\n",
    "# import numpy as np\n",
    "# import matplotlib.pyplot as plt\n",
    "\n",
    "# # Coordinates of Sere Wind Farm\n",
    "# sere_lat = -31.6167\n",
    "# sere_lon = 18.3487\n",
    "\n",
    "# # Lists to collect data for all years\n",
    "# all_wind_speeds = []\n",
    "# all_times = []\n",
    "\n",
    "# # Loop over each year and extract data\n",
    "# for year in range(2018, 2023):\n",
    "#     # Open dataset for the specific year\n",
    "#     ds = xr.open_dataset(f'data_850/{year}_850_SA.nc')\n",
    "#     ds.load()\n",
    "\n",
    "#     # Calculate wind speed from u and v components\n",
    "#     ds['wspd'] = np.sqrt(ds.u**2 + ds.v**2).astype(np.float32)\n",
    "\n",
    "#     # Select the data closest to the Sere Wind Farm coordinates\n",
    "#     sere_wind_data = ds.sel(latitude=sere_lat, longitude=sere_lon, method='nearest')\n",
    "\n",
    "#     # Extract time and wind speed as numpy arrays\n",
    "#     sere_wind_time = sere_wind_data['time'].values\n",
    "#     sere_wind_np = sere_wind_data['wspd'].values\n",
    "\n",
    "#     # Collect the data for concatenation\n",
    "#     all_times.append(sere_wind_time)\n",
    "#     all_wind_speeds.append(sere_wind_np)\n",
    "\n",
    "#     # Plot the wind speed for the current year\n",
    "#     plt.plot(sere_wind_time, sere_wind_np, label=f'{year}')\n",
    "\n",
    "# # Concatenate all years' data into one array for a combined plot\n",
    "# all_times = np.concatenate(all_times)\n",
    "# all_wind_speeds = np.concatenate(all_wind_speeds)\n",
    "\n",
    "# # Plotting the combined data for all years\n",
    "# plt.plot(all_times, all_wind_speeds, label='2018-2022', color='black')\n",
    "\n",
    "# plt.xlabel('Time')\n",
    "# plt.ylabel('Wind Speed (m/s)')\n",
    "# plt.title(f'Wind Speed at {sere_lat}°S, {sere_lon}°E (2018-2022)')\n",
    "# plt.legend()\n",
    "# plt.show()\n",
    "\n",
    "\n"
   ]
  },
  {
   "cell_type": "code",
   "execution_count": 2,
   "metadata": {},
   "outputs": [],
   "source": [
    "# df = pd.DataFrame({\n",
    "#     'Time': all_times,\n",
    "#     'Wind Speed (m/s)': all_wind_speeds\n",
    "# })\n",
    "\n",
    "# # Save the DataFrame to a CSV file\n",
    "# df.to_csv('sere_wind_speeds_2018_2022.csv', index=False)"
   ]
  },
  {
   "cell_type": "code",
   "execution_count": 53,
   "metadata": {},
   "outputs": [],
   "source": [
    "import pandas as pd\n",
    "import numpy as np\n",
    "\n",
    "import torch\n",
    "import torch.nn as nn\n",
    "from torch.utils.data import DataLoader, Dataset\n",
    "\n",
    "from sklearn.model_selection import train_test_split\n",
    "\n",
    "import matplotlib.pyplot as plt\n",
    "\n",
    "import lightning as L\n",
    "from lightning.pytorch.callbacks import ModelCheckpoint, EarlyStopping\n",
    "from lightning.pytorch import Trainer\n",
    "\n",
    "import wandb\n",
    "from lightning.pytorch.loggers import WandbLogger\n",
    "\n",
    "from typing import Tuple\n",
    "\n",
    "df = pd.read_csv('data_850\\sere_wind_speeds_2018_2022.csv')"
   ]
  },
  {
   "cell_type": "code",
   "execution_count": 33,
   "metadata": {},
   "outputs": [],
   "source": [
    "# np_arr = np.sin(np.linspace(0, 10000, len(df)) + 1 * 10)\n",
    "# df['wspd'] = np_arr\n",
    "\n",
    "# random_frequency = np.random.uniform(0.1, 5) \n",
    "# random_phase = np.random.uniform(0, 2 * np.pi)\n",
    "# np_arr = np.sin(np.linspace(0, 10000, len(df)) * random_frequency + random_phase)\n",
    "# noise = np.random.normal(0, 0.5, len(df))  \n",
    "# np_arr_noisy = np_arr + noise\n",
    "# df['wspd'] = np_arr_noisy\n"
   ]
  },
  {
   "cell_type": "code",
   "execution_count": 5,
   "metadata": {},
   "outputs": [],
   "source": [
    "class TimeSeriesDataset(Dataset):\n",
    "    def __init__(self, df, window_size=10, steps_ahead=1, data_split='train', intervals = 1):\n",
    "        self.window_size = window_size\n",
    "        self.steps_ahead = steps_ahead\n",
    "        self.df = df\n",
    "\n",
    "        self.mean = self.df['wspd'].mean()\n",
    "        self.std = self.df['wspd'].std()\n",
    "\n",
    "        self.data_split = data_split\n",
    "\n",
    "        self.intervals = intervals\n",
    "\n",
    "        self.split_data()\n",
    "        self.normalize_data()\n",
    " \n",
    "    def __len__(self) -> int:\n",
    "        \"\"\"\n",
    "        Returns the number of samples based on how many windows of size `window_size + steps`\n",
    "        can fit into the dataset for the specified split.\n",
    "\n",
    "        Returns:\n",
    "            int: The number of valid windows that can fit into the specified dataset split.\n",
    "        \"\"\"\n",
    "\n",
    "        if self.data_split == 'train':\n",
    "            dataset_length = len(self.X_train)\n",
    "        elif self.data_split == 'val':\n",
    "            dataset_length = len(self.X_val)\n",
    "        elif self.data_split == 'test':\n",
    "            dataset_length = len(self.X_test)\n",
    "        else:\n",
    "            raise ValueError(\"data_split must be 'train', 'val', or 'test'\")\n",
    "        \n",
    "        total_window_size = (self.window_size + self.steps_ahead)  * self.intervals\n",
    "        num_windows = dataset_length - total_window_size + self.intervals  \n",
    "        \n",
    "        return max(0, num_windows)  \n",
    "\n",
    "    def __getitem__(self, idx: int) -> Tuple[torch.Tensor, torch.Tensor, torch.Tensor]:\n",
    "        \"\"\"\n",
    "        Retrieves a sample from the specified dataset split.\n",
    "\n",
    "        Args:\n",
    "            idx (int): The index of the sample to retrieve.\n",
    "            data_split (str): The dataset split ('train', 'val', 'test'). Default is 'train'.\n",
    "\n",
    "        Returns:\n",
    "            Tuple[torch.Tensor, torch.Tensor, torch.Tensor]: A tuple containing features, forcings, and target.\n",
    "        \"\"\"\n",
    "\n",
    "        if self.data_split == 'train':\n",
    "            x = self.X_train_t[idx:idx + self.window_size * self.intervals:self.intervals]\n",
    "            F = self.F_train_t[idx + self.window_size * self.intervals]\n",
    "            y = self.X_train_t[idx + self.window_size * self.intervals:idx + (self.window_size + self.steps_ahead) * self.intervals: self.intervals] \n",
    "            return x, F, y\n",
    "        elif self.data_split == 'val':\n",
    "            x = self.X_val_t[idx:idx + self.window_size * self.intervals:self.intervals]\n",
    "            F = self.F_val_t[idx + self.window_size * self.intervals]\n",
    "            y = self.X_val_t[idx + self.window_size * self.intervals:idx + (self.window_size + self.steps_ahead) * self.intervals: self.intervals] \n",
    "            return x, F, y\n",
    "        elif self.data_split == 'test':\n",
    "            x = self.X_test_t[idx:idx + self.window_size * self.intervals:self.intervals]\n",
    "            F = self.F_test_t[idx + self.window_size * self.intervals]\n",
    "            y = self.X_test_t[idx + self.window_size * self.intervals:idx + (self.window_size + self.steps_ahead) * self.intervals: self.intervals] \n",
    "            return x, F, y\n",
    "        else:\n",
    "            raise ValueError(\"data_split must be 'train', 'val', or 'test'\")\n",
    "        \n",
    "    def split_data(self, train_size=0.8, val_size=0.1):\n",
    "        wspd_data = self.df['wspd']\n",
    "        time_values = df['Time'].values\n",
    "        time_values = pd.to_datetime(time_values)\n",
    "\n",
    "        forcings = np.stack([time_values.hour, time_values.month], axis=-1)\n",
    "\n",
    "        self.X_train, self.X_test = train_test_split(wspd_data, train_size=train_size, shuffle=False)\n",
    "        self.X_train, self.X_val = train_test_split(self.X_train, test_size=val_size, shuffle=False)\n",
    "\n",
    "        self.F_train, self.F_test = train_test_split(forcings, train_size=train_size, shuffle=False)\n",
    "        self.F_train, self.F_val = train_test_split(self.F_train, test_size=val_size, shuffle=False)        \n",
    "\n",
    "    def normalize_data(self):\n",
    "        \n",
    "        self.X_train_t = (self.X_train - self.mean) / self.std\n",
    "        self.X_val_t = (self.X_val - self.mean) / self.std\n",
    "        self.X_test_t = (self.X_test - self.mean) / self.std\n",
    "\n",
    "        self.X_train_t = torch.tensor(self.X_train_t.values, dtype=torch.float32)\n",
    "        self.X_val_t = torch.tensor(self.X_val_t.values, dtype=torch.float32)\n",
    "        self.X_test_t = torch.tensor(self.X_test_t.values, dtype=torch.float32)\n",
    "\n",
    "        self.F_train_t = torch.tensor(self.F_train, dtype=torch.float32)\n",
    "        self.F_val_t = torch.tensor(self.F_val, dtype=torch.float32)\n",
    "        self.F_test_t = torch.tensor(self.F_test, dtype=torch.float32)\n",
    "\n",
    "    def test_class(self) -> None:\n",
    "        print('self.X_train:', self.X_train.shape, 'self.X_val:', self.X_val.shape, 'self.X_test:', self.X_test.shape)\n",
    "        print('self.F_train:', self.F_train.shape, 'self.F_val:', self.F_val.shape, 'self.F_test:', self.F_test.shape)\n",
    "\n",
    "        print('self.X_train_t:', self.X_train_t.shape, 'self.X_val_t:', self.X_val_t.shape, 'self.X_test_t:', self.X_test_t.shape)\n",
    "        print('self.F_train_t:', self.F_train_t.shape, 'self.F_val_t:', self.F_val_t.shape, 'self.F_test_t:', self.F_test_t.shape)\n",
    "\n",
    "        print('self.input_size:', self.input_size, 'self.forcing_size:', self.forcing_size, 'self.output_size:', self.output_size)\n",
    "\n",
    "    def plot_predictions(self, model, seed = 0):\n",
    "        x = self.X_test_t[seed:seed + self.window_size * self.intervals:self.intervals].reshape(1, -1)\n",
    "        F = self.F_test_t[seed + self.window_size * self.intervals].reshape(1, -1)\n",
    "        y = self.X_test_t[seed + self.window_size  * self.intervals:seed + (self.window_size + self.steps_ahead)  * self.intervals:self.intervals]\n",
    "\n",
    "        predictions = model(x, F)\n",
    "\n",
    "        plt.plot(range(self.window_size), x[0])\n",
    "        plt.plot(range(self.window_size, self.window_size + self.steps_ahead), y)\n",
    "        plt.plot(range(self.window_size, self.window_size + self.steps_ahead), predictions[0].detach().numpy())\n",
    "        plt.show()\n",
    "\n",
    "    def auto_regressive(self, model, x, F):\n",
    "        predictions = []\n",
    "        for i in range(round(self.steps_ahead)):\n",
    "            # print('Step: ', i)\n",
    "            y_hat = model(x, F)\n",
    "\n",
    "            x = torch.cat([x[1:], y_hat], dim=-1)\n",
    "            \n",
    "            hour = F[0,].item()  \n",
    "            month = F[1].item()  \n",
    "                \n",
    "            hour += 1\n",
    "            if hour == 24:\n",
    "                hour = 0\n",
    "            \n",
    "            F = torch.tensor([[hour, month]]).float().squeeze()\n",
    "            predictions.append(y_hat)\n",
    "\n",
    "        return torch.stack(predictions)"
   ]
  },
  {
   "cell_type": "code",
   "execution_count": 50,
   "metadata": {},
   "outputs": [],
   "source": [
    "class SimpleMLP(L.LightningModule):\n",
    "    def __init__(self, input_size, forcing_size, output_size, lr = 0.0001, steps = 1, rollout = False, interval = 1):\n",
    "        super(SimpleMLP, self).__init__()\n",
    "        self.save_hyperparameters()\n",
    "\n",
    "        self.fc1 = nn.Linear(input_size + forcing_size, 128)  \n",
    "        self.fc2 = nn.Linear(128, 64) \n",
    "        self.rollout = rollout\n",
    "\n",
    "        self.interval = interval\n",
    "\n",
    "        if self.rollout:\n",
    "            output_size = 1\n",
    "            \n",
    "        self.fc3 = nn.Linear(64, output_size) \n",
    "\n",
    "        self.loss_fn = nn.MSELoss()\n",
    "\n",
    "        self.steps = steps\n",
    "\n",
    "        self.lr = lr\n",
    "\n",
    "    def forward(self, X, F):\n",
    "        if self.rollout:\n",
    "            return self.rollout_step(X, F)\n",
    "        else:\n",
    "            return self.single_step(X, F)\n",
    "        \n",
    "    def single_step(self, x, F):\n",
    "        inputs = torch.cat((x, F), dim=-1)  \n",
    "\n",
    "        x = torch.relu(self.fc1(inputs)) \n",
    "        x = torch.relu(self.fc2(x))\n",
    "        x = self.fc3(x)  \n",
    "\n",
    "        return x\n",
    "    \n",
    "    def rollout_step(self, x, F):\n",
    "        y_outputs = []\n",
    "        for step in range(self.steps):\n",
    "\n",
    "            y_hat = self.single_step(x, F)\n",
    "\n",
    "            x = torch.cat((x[:, 1:], y_hat), dim=1)\n",
    "\n",
    "            hour = F[:, 0]\n",
    "            month = F[:, 1]\n",
    "            \n",
    "            hour = (hour + self.interval) % 24\n",
    "\n",
    "            F = torch.stack((hour, month), dim=1).float()\n",
    "\n",
    "            y_outputs.append(y_hat)\n",
    "\n",
    "        return torch.stack(y_outputs, dim=1).reshape(-1, self.steps)\n",
    "    \n",
    "    def training_step(self, batch, batch_idx):\n",
    "        x, F, y = batch  \n",
    "\n",
    "        if self.rollout:\n",
    "            loss = self.auto_rollout(x, F, y)\n",
    "        else:\n",
    "            y_hat = self(x, F)\n",
    "            loss = self.loss_fn(y_hat, y)\n",
    "\n",
    "        self.log(\"train_loss\", loss, on_step=True, on_epoch=True) \n",
    "        return loss\n",
    "\n",
    "    def validation_step(self, batch, batch_idx):\n",
    "        x, F, y = batch  \n",
    "\n",
    "        if self.rollout:\n",
    "            loss = self.auto_rollout(x, F, y)\n",
    "        else:\n",
    "            y_hat = self(x, F)\n",
    "            loss = self.loss_fn(y_hat, y)\n",
    "\n",
    "\n",
    "        self.log(\"val_loss\", loss, on_step=False, on_epoch=True) \n",
    "        return loss\n",
    "    \n",
    "    def auto_rollout(self, x, F, y):\n",
    "\n",
    "        cumulative_loss = 0.0\n",
    "        current_input = x.clone()\n",
    "        current_F = F.clone()\n",
    "\n",
    "\n",
    "        for step in range(self.steps): \n",
    "            # print('Step: ', step)\n",
    "            \n",
    "            y_hat = self.single_step(current_input, current_F)\n",
    "\n",
    "            loss = self.loss_fn(y_hat, y[:, step].reshape(-1, 1))\n",
    "            cumulative_loss += loss  \n",
    "            \n",
    "            current_input = torch.cat((current_input[:, 1:], y_hat), dim=1)\n",
    "\n",
    "            hour = current_F[:, 0]\n",
    "            month = current_F[:, 1]\n",
    "            \n",
    "            hour = (hour + self.interval) % 24\n",
    "\n",
    "            current_F = torch.stack((hour, month), dim=1).float()\n",
    "\n",
    "        return cumulative_loss\n",
    "    \n",
    "    def configure_optimizers(self):\n",
    "        optimizer = torch.optim.AdamW(self.parameters(), lr= self.lr)\n",
    "\n",
    "        scheduler = torch.optim.lr_scheduler.ReduceLROnPlateau(optimizer, mode='min', patience=5, verbose=True)\n",
    "        \n",
    "        return {\"optimizer\": optimizer, \"lr_scheduler\": {\"scheduler\": scheduler, \"monitor\": \"val_loss\"}}"
   ]
  },
  {
   "cell_type": "code",
   "execution_count": 7,
   "metadata": {},
   "outputs": [],
   "source": [
    "window_size = 48\n",
    "steps_ahead = 24\n",
    "interval = 1\n",
    "\n",
    "time_series = TimeSeriesDataset(df, window_size=window_size, steps_ahead=steps_ahead, intervals=interval)\n",
    "\n"
   ]
  },
  {
   "cell_type": "code",
   "execution_count": 47,
   "metadata": {},
   "outputs": [
    {
     "name": "stdout",
     "output_type": "stream",
     "text": [
      "Shapes:\t torch.Size([32, 48]) torch.Size([32, 2]) torch.Size([32, 24])\n",
      "Output:\t torch.Size([32, 24])\n",
      "Loss training: tensor(1.0261, grad_fn=<MseLossBackward0>)\n"
     ]
    },
    {
     "name": "stderr",
     "output_type": "stream",
     "text": [
      "c:\\Users\\23603526\\AppData\\Local\\Programs\\Python\\Python311\\Lib\\site-packages\\lightning\\pytorch\\core\\module.py:436: You are trying to `self.log()` but the `self.trainer` reference is not registered on the model yet. This is most likely because the model hasn't been passed to the `Trainer`\n"
     ]
    },
    {
     "data": {
      "image/png": "[encoded data removed]",
      "text/plain": [
       "<Figure size 640x480 with 1 Axes>"
      ]
     },
     "metadata": {},
     "output_type": "display_data"
    }
   ],
   "source": [
    "# Explanation\n",
    "\n",
    "window_size = 48\n",
    "steps_ahead = 24\n",
    "interval = 1\n",
    "\n",
    "\n",
    "train_loader = DataLoader(TimeSeriesDataset(df, window_size=window_size, steps_ahead=steps_ahead, data_split='train', intervals=interval), batch_size=32, shuffle=False) \n",
    "\n",
    "for x, F, y in train_loader:\n",
    "    print('Shapes:\\t', x.shape, F.shape, y.shape)\n",
    "    break\n",
    "\n",
    "model = SimpleMLP(input_size=window_size, forcing_size=2, output_size=steps_ahead, lr=0.0001, steps=steps_ahead, rollout=False)\n",
    "\n",
    "y_hat = model(x, F)\n",
    "\n",
    "print('Output:\\t', y_hat.shape)\n",
    "\n",
    "print('Loss training:', model.training_step((x, F, y), 0))\n",
    "\n",
    "plt.plot(range(window_size), x[0])\n",
    "plt.plot(range(window_size, window_size + steps_ahead), y[0])\n",
    "plt.plot(range(window_size, window_size + steps_ahead), y_hat[0].detach().numpy())\n",
    "\n",
    "plt.show()"
   ]
  },
  {
   "cell_type": "code",
   "execution_count": 51,
   "metadata": {},
   "outputs": [
    {
     "name": "stderr",
     "output_type": "stream",
     "text": [
      "GPU available: False, used: False\n",
      "TPU available: False, using: 0 TPU cores\n",
      "IPU available: False, using: 0 IPUs\n",
      "HPU available: False, using: 0 HPUs\n"
     ]
    }
   ],
   "source": [
    "steps_ahead = 1\n",
    "interval = 1\n",
    "\n",
    "model = SimpleMLP(input_size=window_size, forcing_size=2, output_size=steps_ahead, lr=0.0001, steps=steps_ahead, rollout=True, interval=interval)\n",
    "log_name = f\"SimpleMLP_{steps_ahead}_1\"\n",
    "\n",
    "train_loader = DataLoader(TimeSeriesDataset(df[:1000], window_size=window_size, steps_ahead=steps_ahead, data_split='train', intervals=interval), \n",
    "                          batch_size=32, shuffle=True)  \n",
    "\n",
    "val_loader = DataLoader(TimeSeriesDataset(df[:1000], window_size=window_size, steps_ahead=steps_ahead, data_split='val', intervals=interval), \n",
    "                        batch_size=32, shuffle=False)\n",
    "\n",
    "checkpoint_callback = ModelCheckpoint(monitor='val_loss', filename=log_name,  save_top_k=1, mode='min')\n",
    "early_stop_callback = EarlyStopping(monitor='val_loss', patience=10, mode='min', verbose=True)\n",
    "\n",
    "trainer = Trainer(max_epochs=100, \n",
    "                  callbacks=[checkpoint_callback, early_stop_callback])\n",
    "\n",
    "# wandb_logger = WandbLogger(project=\"time-series-forecasting\", name=log_name)\n",
    "\n",
    "# trainer = Trainer(max_epochs=10, \n",
    "#                   callbacks=[checkpoint_callback, early_stop_callback], \n",
    "#                   logger=wandb_logger)"
   ]
  },
  {
   "cell_type": "code",
   "execution_count": 52,
   "metadata": {},
   "outputs": [
    {
     "name": "stderr",
     "output_type": "stream",
     "text": [
      "c:\\Users\\23603526\\AppData\\Local\\Programs\\Python\\Python311\\Lib\\site-packages\\torch\\optim\\lr_scheduler.py:28: UserWarning: The verbose parameter is deprecated. Please use get_last_lr() to access the learning rate.\n",
      "  warnings.warn(\"The verbose parameter is deprecated. Please use get_last_lr() \"\n",
      "\n",
      "  | Name    | Type    | Params\n",
      "------------------------------------\n",
      "0 | fc1     | Linear  | 6.5 K \n",
      "1 | fc2     | Linear  | 8.3 K \n",
      "2 | fc3     | Linear  | 65    \n",
      "3 | loss_fn | MSELoss | 0     \n",
      "------------------------------------\n",
      "14.8 K    Trainable params\n",
      "0         Non-trainable params\n",
      "14.8 K    Total params\n",
      "0.059     Total estimated model params size (MB)\n"
     ]
    },
    {
     "data": {
      "application/vnd.jupyter.widget-view+json": {
       "model_id": "7381d36fd3594437bf220ad9c92871d9",
       "version_major": 2,
       "version_minor": 0
      },
      "text/plain": [
       "Sanity Checking: |          | 0/? [00:00<?, ?it/s]"
      ]
     },
     "metadata": {},
     "output_type": "display_data"
    },
    {
     "name": "stderr",
     "output_type": "stream",
     "text": [
      "c:\\Users\\23603526\\AppData\\Local\\Programs\\Python\\Python311\\Lib\\site-packages\\lightning\\pytorch\\trainer\\connectors\\data_connector.py:441: The 'val_dataloader' does not have many workers which may be a bottleneck. Consider increasing the value of the `num_workers` argument` to `num_workers=11` in the `DataLoader` to improve performance.\n",
      "c:\\Users\\23603526\\AppData\\Local\\Programs\\Python\\Python311\\Lib\\site-packages\\lightning\\pytorch\\trainer\\connectors\\data_connector.py:441: The 'train_dataloader' does not have many workers which may be a bottleneck. Consider increasing the value of the `num_workers` argument` to `num_workers=11` in the `DataLoader` to improve performance.\n",
      "c:\\Users\\23603526\\AppData\\Local\\Programs\\Python\\Python311\\Lib\\site-packages\\lightning\\pytorch\\loops\\fit_loop.py:298: The number of training batches (21) is smaller than the logging interval Trainer(log_every_n_steps=50). Set a lower value for log_every_n_steps if you want to see logs for the training epoch.\n"
     ]
    },
    {
     "data": {
      "application/vnd.jupyter.widget-view+json": {
       "model_id": "1f01b2cdb77f4c80b1d775be702544c1",
       "version_major": 2,
       "version_minor": 0
      },
      "text/plain": [
       "Training: |          | 0/? [00:00<?, ?it/s]"
      ]
     },
     "metadata": {},
     "output_type": "display_data"
    },
    {
     "data": {
      "application/vnd.jupyter.widget-view+json": {
       "model_id": "8f6a52721c974581beea83a27490d5f8",
       "version_major": 2,
       "version_minor": 0
      },
      "text/plain": [
       "Validation: |          | 0/? [00:00<?, ?it/s]"
      ]
     },
     "metadata": {},
     "output_type": "display_data"
    },
    {
     "name": "stderr",
     "output_type": "stream",
     "text": [
      "Metric val_loss improved. New best score: 0.744\n"
     ]
    },
    {
     "data": {
      "application/vnd.jupyter.widget-view+json": {
       "model_id": "514bf0d80a00446b80fe6c569ca02752",
       "version_major": 2,
       "version_minor": 0
      },
      "text/plain": [
       "Validation: |          | 0/? [00:00<?, ?it/s]"
      ]
     },
     "metadata": {},
     "output_type": "display_data"
    },
    {
     "name": "stderr",
     "output_type": "stream",
     "text": [
      "Metric val_loss improved by 0.293 >= min_delta = 0.0. New best score: 0.451\n"
     ]
    },
    {
     "data": {
      "application/vnd.jupyter.widget-view+json": {
       "model_id": "e6bcbecfdda541a883b18577cbdfdd76",
       "version_major": 2,
       "version_minor": 0
      },
      "text/plain": [
       "Validation: |          | 0/? [00:00<?, ?it/s]"
      ]
     },
     "metadata": {},
     "output_type": "display_data"
    },
    {
     "name": "stderr",
     "output_type": "stream",
     "text": [
      "Metric val_loss improved by 0.227 >= min_delta = 0.0. New best score: 0.224\n"
     ]
    },
    {
     "data": {
      "application/vnd.jupyter.widget-view+json": {
       "model_id": "08bdadbc56644c72bc4398da94c79ab9",
       "version_major": 2,
       "version_minor": 0
      },
      "text/plain": [
       "Validation: |          | 0/? [00:00<?, ?it/s]"
      ]
     },
     "metadata": {},
     "output_type": "display_data"
    },
    {
     "name": "stderr",
     "output_type": "stream",
     "text": [
      "Metric val_loss improved by 0.150 >= min_delta = 0.0. New best score: 0.074\n"
     ]
    },
    {
     "data": {
      "application/vnd.jupyter.widget-view+json": {
       "model_id": "2dc626e975bc483093d077d6b6560ddb",
       "version_major": 2,
       "version_minor": 0
      },
      "text/plain": [
       "Validation: |          | 0/? [00:00<?, ?it/s]"
      ]
     },
     "metadata": {},
     "output_type": "display_data"
    },
    {
     "name": "stderr",
     "output_type": "stream",
     "text": [
      "Metric val_loss improved by 0.055 >= min_delta = 0.0. New best score: 0.019\n"
     ]
    },
    {
     "data": {
      "application/vnd.jupyter.widget-view+json": {
       "model_id": "b952c56da0db4e77a5a8fe306a5fbf06",
       "version_major": 2,
       "version_minor": 0
      },
      "text/plain": [
       "Validation: |          | 0/? [00:00<?, ?it/s]"
      ]
     },
     "metadata": {},
     "output_type": "display_data"
    },
    {
     "name": "stderr",
     "output_type": "stream",
     "text": [
      "Metric val_loss improved by 0.006 >= min_delta = 0.0. New best score: 0.013\n"
     ]
    },
    {
     "data": {
      "application/vnd.jupyter.widget-view+json": {
       "model_id": "7d7a063a36424639a6d861f20de7b68f",
       "version_major": 2,
       "version_minor": 0
      },
      "text/plain": [
       "Validation: |          | 0/? [00:00<?, ?it/s]"
      ]
     },
     "metadata": {},
     "output_type": "display_data"
    },
    {
     "name": "stderr",
     "output_type": "stream",
     "text": [
      "Metric val_loss improved by 0.002 >= min_delta = 0.0. New best score: 0.011\n"
     ]
    },
    {
     "data": {
      "application/vnd.jupyter.widget-view+json": {
       "model_id": "3b54a3d31f9f46cb8bf51258671e27c9",
       "version_major": 2,
       "version_minor": 0
      },
      "text/plain": [
       "Validation: |          | 0/? [00:00<?, ?it/s]"
      ]
     },
     "metadata": {},
     "output_type": "display_data"
    },
    {
     "name": "stderr",
     "output_type": "stream",
     "text": [
      "Metric val_loss improved by 0.002 >= min_delta = 0.0. New best score: 0.009\n"
     ]
    },
    {
     "data": {
      "application/vnd.jupyter.widget-view+json": {
       "model_id": "c3269471c91a46a6aba877e7c4f19aec",
       "version_major": 2,
       "version_minor": 0
      },
      "text/plain": [
       "Validation: |          | 0/? [00:00<?, ?it/s]"
      ]
     },
     "metadata": {},
     "output_type": "display_data"
    },
    {
     "name": "stderr",
     "output_type": "stream",
     "text": [
      "Metric val_loss improved by 0.002 >= min_delta = 0.0. New best score: 0.007\n"
     ]
    },
    {
     "data": {
      "application/vnd.jupyter.widget-view+json": {
       "model_id": "a71220d9e8124434b81caccdd09ab405",
       "version_major": 2,
       "version_minor": 0
      },
      "text/plain": [
       "Validation: |          | 0/? [00:00<?, ?it/s]"
      ]
     },
     "metadata": {},
     "output_type": "display_data"
    },
    {
     "name": "stderr",
     "output_type": "stream",
     "text": [
      "Metric val_loss improved by 0.001 >= min_delta = 0.0. New best score: 0.006\n",
      "c:\\Users\\23603526\\AppData\\Local\\Programs\\Python\\Python311\\Lib\\site-packages\\lightning\\pytorch\\trainer\\call.py:54: Detected KeyboardInterrupt, attempting graceful shutdown...\n"
     ]
    }
   ],
   "source": [
    "trainer.fit(model, train_loader, val_loader)"
   ]
  },
  {
   "cell_type": "code",
   "execution_count": 25,
   "metadata": {},
   "outputs": [
    {
     "data": {
      "image/png": "[encoded data removed]",
      "text/plain": [
       "<Figure size 640x480 with 1 Axes>"
      ]
     },
     "metadata": {},
     "output_type": "display_data"
    }
   ],
   "source": [
    "# model = SimpleMLP(input_size=window_size, forcing_size=2, output_size=steps_ahead, lr=0.0001, steps=steps_ahead, rollout=True)\n",
    "\n",
    "model.steps = 24\n",
    "time_series.plot_predictions(model, seed=50)"
   ]
  }
 ],
 "metadata": {
  "kernelspec": {
   "display_name": "Python 3",
   "language": "python",
   "name": "python3"
  },
  "language_info": {
   "codemirror_mode": {
    "name": "ipython",
    "version": 3
   },
   "file_extension": ".py",
   "mimetype": "text/x-python",
   "name": "python",
   "nbconvert_exporter": "python",
   "pygments_lexer": "ipython3",
   "version": "3.11.7"
  }
 },
 "nbformat": 4,
 "nbformat_minor": 2
}
