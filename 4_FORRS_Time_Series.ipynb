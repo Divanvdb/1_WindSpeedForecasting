{
 "cells": [
  {
   "cell_type": "code",
   "execution_count": 1,
   "metadata": {},
   "outputs": [],
   "source": [
    "# import xarray as xr\n",
    "# import numpy as np\n",
    "# import matplotlib.pyplot as plt\n",
    "\n",
    "# # Coordinates of Sere Wind Farm\n",
    "# sere_lat = -31.6167\n",
    "# sere_lon = 18.3487\n",
    "\n",
    "# # Lists to collect data for all years\n",
    "# all_wind_speeds = []\n",
    "# all_times = []\n",
    "\n",
    "# # Loop over each year and extract data\n",
    "# for year in range(2018, 2023):\n",
    "#     # Open dataset for the specific year\n",
    "#     ds = xr.open_dataset(f'data_850/{year}_850_SA.nc')\n",
    "#     ds.load()\n",
    "\n",
    "#     # Calculate wind speed from u and v components\n",
    "#     ds['wspd'] = np.sqrt(ds.u**2 + ds.v**2).astype(np.float32)\n",
    "\n",
    "#     # Select the data closest to the Sere Wind Farm coordinates\n",
    "#     sere_wind_data = ds.sel(latitude=sere_lat, longitude=sere_lon, method='nearest')\n",
    "\n",
    "#     # Extract time and wind speed as numpy arrays\n",
    "#     sere_wind_time = sere_wind_data['time'].values\n",
    "#     sere_wind_np = sere_wind_data['wspd'].values\n",
    "\n",
    "#     # Collect the data for concatenation\n",
    "#     all_times.append(sere_wind_time)\n",
    "#     all_wind_speeds.append(sere_wind_np)\n",
    "\n",
    "#     # Plot the wind speed for the current year\n",
    "#     plt.plot(sere_wind_time, sere_wind_np, label=f'{year}')\n",
    "\n",
    "# # Concatenate all years' data into one array for a combined plot\n",
    "# all_times = np.concatenate(all_times)\n",
    "# all_wind_speeds = np.concatenate(all_wind_speeds)\n",
    "\n",
    "# # Plotting the combined data for all years\n",
    "# plt.plot(all_times, all_wind_speeds, label='2018-2022', color='black')\n",
    "\n",
    "# plt.xlabel('Time')\n",
    "# plt.ylabel('Wind Speed (m/s)')\n",
    "# plt.title(f'Wind Speed at {sere_lat}°S, {sere_lon}°E (2018-2022)')\n",
    "# plt.legend()\n",
    "# plt.show()\n",
    "\n",
    "\n"
   ]
  },
  {
   "cell_type": "code",
   "execution_count": 2,
   "metadata": {},
   "outputs": [],
   "source": [
    "# df = pd.DataFrame({\n",
    "#     'Time': all_times,\n",
    "#     'Wind Speed (m/s)': all_wind_speeds\n",
    "# })\n",
    "\n",
    "# # Save the DataFrame to a CSV file\n",
    "# df.to_csv('sere_wind_speeds_2018_2022.csv', index=False)"
   ]
  },
  {
   "cell_type": "code",
   "execution_count": 2,
   "metadata": {},
   "outputs": [],
   "source": [
    "import pandas as pd\n",
    "import numpy as np\n",
    "\n",
    "import torch\n",
    "import torch.nn as nn\n",
    "from torch.utils.data import DataLoader, Dataset\n",
    "\n",
    "from sklearn.model_selection import train_test_split\n",
    "\n",
    "import matplotlib.pyplot as plt\n",
    "\n",
    "import lightning as L\n",
    "from lightning.pytorch.callbacks import ModelCheckpoint, EarlyStopping\n",
    "from lightning.pytorch import Trainer\n",
    "\n",
    "import wandb\n",
    "from lightning.pytorch.loggers import WandbLogger\n",
    "\n",
    "from typing import Tuple\n",
    "\n",
    "df = pd.read_csv('data_850\\sere_wind_speeds_2018_2022.csv')"
   ]
  },
  {
   "cell_type": "code",
   "execution_count": 33,
   "metadata": {},
   "outputs": [],
   "source": [
    "# np_arr = np.sin(np.linspace(0, 10000, len(df)) + 1 * 10)\n",
    "# df['wspd'] = np_arr\n",
    "\n",
    "# random_frequency = np.random.uniform(0.1, 5) \n",
    "# random_phase = np.random.uniform(0, 2 * np.pi)\n",
    "# np_arr = np.sin(np.linspace(0, 10000, len(df)) * random_frequency + random_phase)\n",
    "# noise = np.random.normal(0, 0.5, len(df))  \n",
    "# np_arr_noisy = np_arr + noise\n",
    "# df['wspd'] = np_arr_noisy\n"
   ]
  },
  {
   "cell_type": "code",
   "execution_count": 8,
   "metadata": {},
   "outputs": [],
   "source": [
    "class TimeSeriesDataset(Dataset):\n",
    "    def __init__(self, df, window_size=10, steps_ahead=1, data_split='train', intervals = 1):\n",
    "        self.window_size = window_size\n",
    "        self.steps_ahead = steps_ahead\n",
    "        self.df = df\n",
    "\n",
    "        self.mean = self.df['wspd'].mean()\n",
    "        self.std = self.df['wspd'].std()\n",
    "\n",
    "        self.data_split = data_split\n",
    "\n",
    "        self.intervals = intervals\n",
    "\n",
    "        self.split_data()\n",
    "        self.normalize_data()\n",
    " \n",
    "    def __len__(self) -> int:\n",
    "        \"\"\"\n",
    "        Returns the number of samples based on how many windows of size `window_size + steps`\n",
    "        can fit into the dataset for the specified split.\n",
    "\n",
    "        Returns:\n",
    "            int: The number of valid windows that can fit into the specified dataset split.\n",
    "        \"\"\"\n",
    "\n",
    "        if self.data_split == 'train':\n",
    "            dataset_length = len(self.X_train)\n",
    "        elif self.data_split == 'val':\n",
    "            dataset_length = len(self.X_val)\n",
    "        elif self.data_split == 'test':\n",
    "            dataset_length = len(self.X_test)\n",
    "        else:\n",
    "            raise ValueError(\"data_split must be 'train', 'val', or 'test'\")\n",
    "        \n",
    "        total_window_size = (self.window_size + self.steps_ahead)  * self.intervals\n",
    "        num_windows = dataset_length - total_window_size + self.intervals  \n",
    "        \n",
    "        return max(0, num_windows)  \n",
    "\n",
    "    def __getitem__(self, idx: int) -> Tuple[torch.Tensor, torch.Tensor, torch.Tensor]:\n",
    "        \"\"\"\n",
    "        Retrieves a sample from the specified dataset split.\n",
    "\n",
    "        Args:\n",
    "            idx (int): The index of the sample to retrieve.\n",
    "            data_split (str): The dataset split ('train', 'val', 'test'). Default is 'train'.\n",
    "\n",
    "        Returns:\n",
    "            Tuple[torch.Tensor, torch.Tensor, torch.Tensor]: A tuple containing features, forcings, and target.\n",
    "        \"\"\"\n",
    "\n",
    "        if self.data_split == 'train':\n",
    "            x = self.X_train_t[idx:idx + self.window_size * self.intervals:self.intervals]\n",
    "            F = self.F_train_t[idx + self.window_size * self.intervals]\n",
    "            y = self.X_train_t[idx + self.window_size * self.intervals:idx + (self.window_size + self.steps_ahead) * self.intervals: self.intervals] \n",
    "            return x, F, y\n",
    "        elif self.data_split == 'val':\n",
    "            x = self.X_val_t[idx:idx + self.window_size * self.intervals:self.intervals]\n",
    "            F = self.F_val_t[idx + self.window_size * self.intervals]\n",
    "            y = self.X_val_t[idx + self.window_size * self.intervals:idx + (self.window_size + self.steps_ahead) * self.intervals: self.intervals] \n",
    "            return x, F, y\n",
    "        elif self.data_split == 'test':\n",
    "            x = self.X_test_t[idx:idx + self.window_size * self.intervals:self.intervals]\n",
    "            F = self.F_test_t[idx + self.window_size * self.intervals]\n",
    "            y = self.X_test_t[idx + self.window_size * self.intervals:idx + (self.window_size + self.steps_ahead) * self.intervals: self.intervals] \n",
    "            return x, F, y\n",
    "        else:\n",
    "            raise ValueError(\"data_split must be 'train', 'val', or 'test'\")\n",
    "        \n",
    "    def split_data(self, train_size=0.8, val_size=0.1):\n",
    "        wspd_data = self.df['wspd']\n",
    "        time_values = df['Time'].values\n",
    "        time_values = pd.to_datetime(time_values)\n",
    "\n",
    "        forcings = np.stack([time_values.hour, time_values.month], axis=-1)\n",
    "\n",
    "        self.X_train, self.X_test = train_test_split(wspd_data, train_size=train_size, shuffle=False)\n",
    "        self.X_train, self.X_val = train_test_split(self.X_train, test_size=val_size, shuffle=False)\n",
    "\n",
    "        self.F_train, self.F_test = train_test_split(forcings, train_size=train_size, shuffle=False)\n",
    "        self.F_train, self.F_val = train_test_split(self.F_train, test_size=val_size, shuffle=False)        \n",
    "\n",
    "    def normalize_data(self):\n",
    "        \n",
    "        self.X_train_t = (self.X_train - self.mean) / self.std\n",
    "        self.X_val_t = (self.X_val - self.mean) / self.std\n",
    "        self.X_test_t = (self.X_test - self.mean) / self.std\n",
    "\n",
    "        self.X_train_t = torch.tensor(self.X_train_t.values, dtype=torch.float32)\n",
    "        self.X_val_t = torch.tensor(self.X_val_t.values, dtype=torch.float32)\n",
    "        self.X_test_t = torch.tensor(self.X_test_t.values, dtype=torch.float32)\n",
    "\n",
    "        self.F_train_t = torch.tensor(self.F_train, dtype=torch.float32)\n",
    "        self.F_val_t = torch.tensor(self.F_val, dtype=torch.float32)\n",
    "        self.F_test_t = torch.tensor(self.F_test, dtype=torch.float32)\n",
    "\n",
    "    def test_class(self) -> None:\n",
    "        print('self.X_train:', self.X_train.shape, 'self.X_val:', self.X_val.shape, 'self.X_test:', self.X_test.shape)\n",
    "        print('self.F_train:', self.F_train.shape, 'self.F_val:', self.F_val.shape, 'self.F_test:', self.F_test.shape)\n",
    "\n",
    "        print('self.X_train_t:', self.X_train_t.shape, 'self.X_val_t:', self.X_val_t.shape, 'self.X_test_t:', self.X_test_t.shape)\n",
    "        print('self.F_train_t:', self.F_train_t.shape, 'self.F_val_t:', self.F_val_t.shape, 'self.F_test_t:', self.F_test_t.shape)\n",
    "\n",
    "    def plot_predictions(self, model, seed = 0):\n",
    "        x = self.X_test_t[seed:seed + self.window_size * self.intervals:self.intervals].reshape(1, -1)\n",
    "        F = self.F_test_t[seed + self.window_size * self.intervals].reshape(1, -1)\n",
    "        y = self.X_test_t[seed + self.window_size  * self.intervals:seed + (self.window_size + self.steps_ahead)  * self.intervals:self.intervals]\n",
    "\n",
    "        predictions = model(x, F)\n",
    "\n",
    "        plt.plot(range(self.window_size), x[0])\n",
    "        plt.plot(range(self.window_size, self.window_size + self.steps_ahead), y)\n",
    "        plt.plot(range(self.window_size, self.window_size + self.steps_ahead), predictions[0].detach().numpy())\n",
    "        plt.show()\n",
    "\n",
    "    def auto_regressive(self, model, x, F):\n",
    "        predictions = []\n",
    "        for i in range(round(self.steps_ahead)):\n",
    "            # print('Step: ', i)\n",
    "            y_hat = model(x, F)\n",
    "\n",
    "            x = torch.cat([x[1:], y_hat], dim=-1)\n",
    "            \n",
    "            hour = F[0,].item()  \n",
    "            month = F[1].item()  \n",
    "                \n",
    "            hour += 1\n",
    "            if hour == 24:\n",
    "                hour = 0\n",
    "            \n",
    "            F = torch.tensor([[hour, month]]).float().squeeze()\n",
    "            predictions.append(y_hat)\n",
    "\n",
    "        return torch.stack(predictions)"
   ]
  },
  {
   "cell_type": "code",
   "execution_count": 69,
   "metadata": {},
   "outputs": [],
   "source": [
    "class SimpleMLP(L.LightningModule):\n",
    "    def __init__(self, input_size, forcing_size, output_size, lr = 0.0001, steps = 1, rollout = False, interval = 1, weights = False):\n",
    "        super(SimpleMLP, self).__init__()\n",
    "        self.save_hyperparameters()\n",
    "\n",
    "        self.fc1 = nn.Linear(input_size + forcing_size, 512)  \n",
    "        # self.fc2 = nn.Linear(64, 32) \n",
    "        self.rollout = rollout\n",
    "\n",
    "        self.interval = interval\n",
    "\n",
    "        if self.rollout:\n",
    "            output_size = 1\n",
    "            \n",
    "        self.fc3 = nn.Linear(512, output_size) \n",
    "\n",
    "        self.loss_fn = nn.MSELoss()\n",
    "\n",
    "        self.steps = steps\n",
    "\n",
    "        self.lr = lr\n",
    "\n",
    "        if weights:\n",
    "            self.apply(self.init_weights)\n",
    "\n",
    "    def init_weights(self, m):\n",
    "        if isinstance(m, nn.Linear):\n",
    "            nn.init.xavier_uniform_(m.weight)  \n",
    "            if m.bias is not None:\n",
    "                nn.init.constant_(m.bias, 0) \n",
    "\n",
    "    def forward(self, X, F):\n",
    "        if self.rollout:\n",
    "            return self.rollout_step(X, F)\n",
    "        else:\n",
    "            return self.single_step(X, F)\n",
    "        \n",
    "    def single_step(self, x, F):\n",
    "        inputs = torch.cat((x, F), dim=-1)  \n",
    "\n",
    "        x = torch.relu(self.fc1(inputs)) \n",
    "        # x = torch.relu(self.fc2(x))\n",
    "        x = self.fc3(x)  \n",
    "\n",
    "        return x\n",
    "    \n",
    "    def rollout_step(self, x, F):\n",
    "        y_outputs = []\n",
    "        for step in range(self.steps):\n",
    "\n",
    "            y_hat = self.single_step(x, F)\n",
    "\n",
    "            x = torch.cat((x[:, 1:], y_hat), dim=1)\n",
    "\n",
    "            hour = F[:, 0]\n",
    "            month = F[:, 1]\n",
    "            \n",
    "            hour = (hour + self.interval) % 24\n",
    "\n",
    "            F = torch.stack((hour, month), dim=1).float()\n",
    "\n",
    "            y_outputs.append(y_hat)\n",
    "\n",
    "        return torch.stack(y_outputs, dim=1).reshape(-1, self.steps)\n",
    "    \n",
    "    def training_step(self, batch, batch_idx):\n",
    "        x, F, y = batch  \n",
    "\n",
    "        if self.rollout:\n",
    "            loss = self.auto_rollout(x, F, y)\n",
    "        else:\n",
    "            y_hat = self(x, F)\n",
    "            loss = self.loss_fn(y_hat, y)\n",
    "\n",
    "        self.log(\"train_loss\", loss, on_step=True, on_epoch=True) \n",
    "        return loss\n",
    "\n",
    "    def validation_step(self, batch, batch_idx):\n",
    "        x, F, y = batch  \n",
    "\n",
    "        if self.rollout:\n",
    "            loss = self.auto_rollout(x, F, y)\n",
    "        else:\n",
    "            y_hat = self(x, F)\n",
    "            loss = self.loss_fn(y_hat, y)\n",
    "\n",
    "\n",
    "        self.log(\"val_loss\", loss, on_step=False, on_epoch=True) \n",
    "        return loss\n",
    "    \n",
    "    def auto_rollout(self, x, F, y):\n",
    "\n",
    "        cumulative_loss = 0.0\n",
    "        current_input = x.clone()\n",
    "        current_F = F.clone()\n",
    "\n",
    "\n",
    "        for step in range(self.steps): \n",
    "            # print('Step: ', step)\n",
    "            \n",
    "            y_hat = self.single_step(current_input, current_F)\n",
    "\n",
    "            loss = self.loss_fn(y_hat, y[:, step].reshape(-1, 1))\n",
    "            cumulative_loss += loss  \n",
    "            \n",
    "            current_input = torch.cat((current_input[:, 1:], y_hat), dim=1)\n",
    "\n",
    "            hour = current_F[:, 0]\n",
    "            month = current_F[:, 1]\n",
    "            \n",
    "            hour = (hour + self.interval) % 24\n",
    "\n",
    "            current_F = torch.stack((hour, month), dim=1).float()\n",
    "\n",
    "        return cumulative_loss\n",
    "    \n",
    "    def configure_optimizers(self):\n",
    "        optimizer = torch.optim.AdamW(self.parameters(), lr= self.lr)\n",
    "\n",
    "        scheduler = torch.optim.lr_scheduler.ReduceLROnPlateau(optimizer, mode='min', patience=5, verbose=True)\n",
    "        \n",
    "        return {\"optimizer\": optimizer, \"lr_scheduler\": {\"scheduler\": scheduler, \"monitor\": \"val_loss\"}}"
   ]
  },
  {
   "cell_type": "code",
   "execution_count": 9,
   "metadata": {},
   "outputs": [],
   "source": [
    "window_size = 48\n",
    "steps_ahead = 24\n",
    "interval = 1\n",
    "\n",
    "time_series = TimeSeriesDataset(df, window_size=window_size, steps_ahead=steps_ahead, intervals=interval)"
   ]
  },
  {
   "cell_type": "code",
   "execution_count": 71,
   "metadata": {},
   "outputs": [
    {
     "name": "stdout",
     "output_type": "stream",
     "text": [
      "Shapes:\t torch.Size([32, 48]) torch.Size([32, 2]) torch.Size([32, 24])\n",
      "Output:\t torch.Size([32, 24])\n",
      "Loss training: tensor(5.1123, grad_fn=<AddBackward0>)\n"
     ]
    },
    {
     "name": "stderr",
     "output_type": "stream",
     "text": [
      "c:\\Users\\divanvdb\\AppData\\Local\\Programs\\Python\\Python311\\Lib\\site-packages\\lightning\\pytorch\\core\\module.py:445: You are trying to `self.log()` but the `self.trainer` reference is not registered on the model yet. This is most likely because the model hasn't been passed to the `Trainer`\n"
     ]
    },
    {
     "data": {
      "image/png": "[encoded data removed]",
      "text/plain": [
       "<Figure size 640x480 with 1 Axes>"
      ]
     },
     "metadata": {},
     "output_type": "display_data"
    }
   ],
   "source": [
    "# Explanation\n",
    "\n",
    "window_size = 48\n",
    "steps_ahead = 24\n",
    "interval = 2\n",
    "\n",
    "\n",
    "train_loader = DataLoader(TimeSeriesDataset(df, window_size=window_size, steps_ahead=steps_ahead, data_split='train', intervals=interval), batch_size=32, shuffle=False) \n",
    "\n",
    "for x, F, y in train_loader:\n",
    "    print('Shapes:\\t', x.shape, F.shape, y.shape)\n",
    "    break\n",
    "\n",
    "model = SimpleMLP(input_size=window_size, forcing_size=2, output_size=steps_ahead, lr=0.0001, steps=steps_ahead, rollout=True, interval=interval)\n",
    "\n",
    "y_hat = model(x, F)\n",
    "\n",
    "print('Output:\\t', y_hat.shape)\n",
    "\n",
    "print('Loss training:', model.training_step((x, F, y), 0))\n",
    "\n",
    "plt.plot(range(window_size), x[0])\n",
    "plt.plot(range(window_size, window_size + steps_ahead), y[0])\n",
    "plt.plot(range(window_size, window_size + steps_ahead), y_hat[0].detach().numpy())\n",
    "\n",
    "plt.show()"
   ]
  },
  {
   "cell_type": "code",
   "execution_count": 72,
   "metadata": {},
   "outputs": [
    {
     "name": "stdout",
     "output_type": "stream",
     "text": [
      "self.X_train: (31553,) self.X_val: (3506,) self.X_test: (8765,)\n",
      "self.F_train: (31553, 2) self.F_val: (3506, 2) self.F_test: (8765, 2)\n",
      "self.X_train_t: torch.Size([31553]) self.X_val_t: torch.Size([3506]) self.X_test_t: torch.Size([8765])\n",
      "self.F_train_t: torch.Size([31553, 2]) self.F_val_t: torch.Size([3506, 2]) self.F_test_t: torch.Size([8765, 2])\n"
     ]
    }
   ],
   "source": [
    "time_series.test_class()"
   ]
  },
  {
   "cell_type": "code",
   "execution_count": 78,
   "metadata": {},
   "outputs": [
    {
     "name": "stderr",
     "output_type": "stream",
     "text": [
      "GPU available: True (cuda), used: True\n",
      "TPU available: False, using: 0 TPU cores\n",
      "HPU available: False, using: 0 HPUs\n"
     ]
    }
   ],
   "source": [
    "steps_ahead = 4\n",
    "interval = 3\n",
    "\n",
    "# model = SimpleMLP(input_size=window_size, forcing_size=2, output_size=1, lr=0.0001, steps=steps_ahead, rollout=True, interval=interval, weights=True)\n",
    "model = SimpleMLP.load_from_checkpoint('time-series-forecasting/9zppw6k5/checkpoints/SimpleMLP_1_at_3_Smaller.ckpt', input_size=window_size, \n",
    "                                       forcing_size=2, output_size=steps_ahead, lr=0.0001, steps=1, rollout=True)\n",
    "\n",
    "model.steps = steps_ahead\n",
    "\n",
    "log_name = f\"SimpleMLP_{steps_ahead}_at_{interval}_Smaller\"\n",
    "\n",
    "train_loader = DataLoader(TimeSeriesDataset(df, window_size=window_size, steps_ahead=steps_ahead, data_split='train', intervals=interval), \n",
    "                          batch_size=32, shuffle=True)  \n",
    "\n",
    "val_loader = DataLoader(TimeSeriesDataset(df, window_size=window_size, steps_ahead=steps_ahead, data_split='val', intervals=interval), \n",
    "                        batch_size=32, shuffle=False)\n",
    "\n",
    "checkpoint_callback = ModelCheckpoint(monitor='val_loss', filename=f\"SimpleMLP_{steps_ahead}_at_{interval}_Smaller\",  save_top_k=1, mode='min')\n",
    "early_stop_callback = EarlyStopping(monitor='val_loss', patience=10, mode='min', verbose=True)\n",
    "\n",
    "# trainer = Trainer(max_epochs=100, \n",
    "#                   callbacks=[checkpoint_callback, early_stop_callback])\n",
    "\n",
    "wandb_logger = WandbLogger(project=\"time-series-forecasting\", name=log_name)\n",
    "\n",
    "trainer = Trainer(max_epochs=100, \n",
    "                  callbacks=[checkpoint_callback, early_stop_callback], \n",
    "                  logger=wandb_logger)"
   ]
  },
  {
   "cell_type": "code",
   "execution_count": 79,
   "metadata": {},
   "outputs": [
    {
     "data": {
      "text/html": [
       "Tracking run with wandb version 0.18.3"
      ],
      "text/plain": [
       "<IPython.core.display.HTML object>"
      ]
     },
     "metadata": {},
     "output_type": "display_data"
    },
    {
     "data": {
      "text/html": [
       "Run data is saved locally in <code>.\\wandb\\run-20241009_162450-gkcrdifo</code>"
      ],
      "text/plain": [
       "<IPython.core.display.HTML object>"
      ]
     },
     "metadata": {},
     "output_type": "display_data"
    },
    {
     "data": {
      "text/html": [
       "Syncing run <strong><a href='https://wandb.ai/divanvanderbank/time-series-forecasting/runs/gkcrdifo' target=\"_blank\">SimpleMLP_4_at_3_Smaller</a></strong> to <a href='https://wandb.ai/divanvanderbank/time-series-forecasting' target=\"_blank\">Weights & Biases</a> (<a href='https://wandb.me/run' target=\"_blank\">docs</a>)<br/>"
      ],
      "text/plain": [
       "<IPython.core.display.HTML object>"
      ]
     },
     "metadata": {},
     "output_type": "display_data"
    },
    {
     "data": {
      "text/html": [
       " View project at <a href='https://wandb.ai/divanvanderbank/time-series-forecasting' target=\"_blank\">https://wandb.ai/divanvanderbank/time-series-forecasting</a>"
      ],
      "text/plain": [
       "<IPython.core.display.HTML object>"
      ]
     },
     "metadata": {},
     "output_type": "display_data"
    },
    {
     "data": {
      "text/html": [
       " View run at <a href='https://wandb.ai/divanvanderbank/time-series-forecasting/runs/gkcrdifo' target=\"_blank\">https://wandb.ai/divanvanderbank/time-series-forecasting/runs/gkcrdifo</a>"
      ],
      "text/plain": [
       "<IPython.core.display.HTML object>"
      ]
     },
     "metadata": {},
     "output_type": "display_data"
    },
    {
     "name": "stderr",
     "output_type": "stream",
     "text": [
      "LOCAL_RANK: 0 - CUDA_VISIBLE_DEVICES: [0]\n",
      "c:\\Users\\divanvdb\\AppData\\Local\\Programs\\Python\\Python311\\Lib\\site-packages\\torch\\optim\\lr_scheduler.py:60: UserWarning: The verbose parameter is deprecated. Please use get_last_lr() to access the learning rate.\n",
      "  warnings.warn(\n",
      "\n",
      "  | Name    | Type    | Params | Mode \n",
      "--------------------------------------------\n",
      "0 | fc1     | Linear  | 26.1 K | train\n",
      "1 | fc3     | Linear  | 513    | train\n",
      "2 | loss_fn | MSELoss | 0      | train\n",
      "--------------------------------------------\n",
      "26.6 K    Trainable params\n",
      "0         Non-trainable params\n",
      "26.6 K    Total params\n",
      "0.106     Total estimated model params size (MB)\n",
      "3         Modules in train mode\n",
      "0         Modules in eval mode\n"
     ]
    },
    {
     "name": "stdout",
     "output_type": "stream",
     "text": [
      "                                                                            "
     ]
    },
    {
     "name": "stderr",
     "output_type": "stream",
     "text": [
      "c:\\Users\\divanvdb\\AppData\\Local\\Programs\\Python\\Python311\\Lib\\site-packages\\lightning\\pytorch\\trainer\\connectors\\data_connector.py:424: The 'val_dataloader' does not have many workers which may be a bottleneck. Consider increasing the value of the `num_workers` argument` to `num_workers=19` in the `DataLoader` to improve performance.\n",
      "c:\\Users\\divanvdb\\AppData\\Local\\Programs\\Python\\Python311\\Lib\\site-packages\\lightning\\pytorch\\trainer\\connectors\\data_connector.py:424: The 'train_dataloader' does not have many workers which may be a bottleneck. Consider increasing the value of the `num_workers` argument` to `num_workers=19` in the `DataLoader` to improve performance.\n"
     ]
    },
    {
     "name": "stdout",
     "output_type": "stream",
     "text": [
      "Epoch 0: 100%|██████████| 982/982 [00:05<00:00, 181.14it/s, v_num=difo]"
     ]
    },
    {
     "name": "stderr",
     "output_type": "stream",
     "text": [
      "Metric val_loss improved. New best score: 2.255\n"
     ]
    },
    {
     "name": "stdout",
     "output_type": "stream",
     "text": [
      "Epoch 10: 100%|██████████| 982/982 [00:06<00:00, 159.50it/s, v_num=difo]"
     ]
    },
    {
     "name": "stderr",
     "output_type": "stream",
     "text": [
      "Monitored metric val_loss did not improve in the last 10 records. Best score: 2.255. Signaling Trainer to stop.\n"
     ]
    },
    {
     "name": "stdout",
     "output_type": "stream",
     "text": [
      "Epoch 10: 100%|██████████| 982/982 [00:06<00:00, 159.44it/s, v_num=difo]\n"
     ]
    },
    {
     "data": {
      "text/html": [
       "<style>\n",
       "    table.wandb td:nth-child(1) { padding: 0 10px; text-align: left ; width: auto;} td:nth-child(2) {text-align: left ; width: 100%}\n",
       "    .wandb-row { display: flex; flex-direction: row; flex-wrap: wrap; justify-content: flex-start; width: 100% }\n",
       "    .wandb-col { display: flex; flex-direction: column; flex-basis: 100%; flex: 1; padding: 10px; }\n",
       "    </style>\n",
       "<div class=\"wandb-row\"><div class=\"wandb-col\"><h3>Run history:</h3><br/><table class=\"wandb\"><tr><td>epoch</td><td>▁▁▁▁▁▂▂▂▂▃▃▃▃▄▄▄▅▅▅▅▅▅▆▆▆▇▇▇▇▇▇▇▇▇▇▇████</td></tr><tr><td>train_loss_epoch</td><td>█▇▆▅▄▃▃▁▁▁▁</td></tr><tr><td>train_loss_step</td><td>█▆▆▇▄▃▆█▄▄▃▆▄▆▇▄▇▃▃▅▅▄▂▃▅▃▅▆▅▃▃▃▃▂▁▅▃▃▃▃</td></tr><tr><td>trainer/global_step</td><td>▁▁▂▂▂▂▃▃▃▃▃▃▃▃▃▄▄▄▄▄▅▅▅▅▅▅▅▅▆▆▆▆▆▇▇▇████</td></tr><tr><td>val_loss</td><td>▁▂▃▅▃▆█▆▄▅▄</td></tr></table><br/></div><div class=\"wandb-col\"><h3>Run summary:</h3><br/><table class=\"wandb\"><tr><td>epoch</td><td>10</td></tr><tr><td>train_loss_epoch</td><td>1.11965</td></tr><tr><td>train_loss_step</td><td>0.7065</td></tr><tr><td>trainer/global_step</td><td>10801</td></tr><tr><td>val_loss</td><td>2.31006</td></tr></table><br/></div></div>"
      ],
      "text/plain": [
       "<IPython.core.display.HTML object>"
      ]
     },
     "metadata": {},
     "output_type": "display_data"
    },
    {
     "data": {
      "text/html": [
       " View run <strong style=\"color:#cdcd00\">SimpleMLP_4_at_3_Smaller</strong> at: <a href='https://wandb.ai/divanvanderbank/time-series-forecasting/runs/gkcrdifo' target=\"_blank\">https://wandb.ai/divanvanderbank/time-series-forecasting/runs/gkcrdifo</a><br/> View project at: <a href='https://wandb.ai/divanvanderbank/time-series-forecasting' target=\"_blank\">https://wandb.ai/divanvanderbank/time-series-forecasting</a><br/>Synced 7 W&B file(s), 0 media file(s), 0 artifact file(s) and 0 other file(s)"
      ],
      "text/plain": [
       "<IPython.core.display.HTML object>"
      ]
     },
     "metadata": {},
     "output_type": "display_data"
    },
    {
     "data": {
      "text/html": [
       "Find logs at: <code>.\\wandb\\run-20241009_162450-gkcrdifo\\logs</code>"
      ],
      "text/plain": [
       "<IPython.core.display.HTML object>"
      ]
     },
     "metadata": {},
     "output_type": "display_data"
    }
   ],
   "source": [
    "trainer.fit(model, train_loader, val_loader)\n",
    "wandb.finish()"
   ]
  },
  {
   "cell_type": "code",
   "execution_count": 83,
   "metadata": {},
   "outputs": [
    {
     "data": {
      "image/png": "[encoded data removed]",
      "text/plain": [
       "<Figure size 640x480 with 1 Axes>"
      ]
     },
     "metadata": {},
     "output_type": "display_data"
    }
   ],
   "source": [
    "# model = SimpleMLP.load_from_checkpoint('time-series-forecasting/duci8bp7/checkpoints/SimpleMLP_24_Smaller.ckpt', input_size=window_size, forcing_size=2, output_size=steps_ahead, lr=0.0001, steps=steps_ahead, rollout=False)\n",
    "\n",
    "model.to('cpu')\n",
    "model.steps = 24\n",
    "\n",
    "time_series.plot_predictions(model, seed=50)"
   ]
  },
  {
   "cell_type": "code",
   "execution_count": null,
   "metadata": {},
   "outputs": [],
   "source": []
  }
 ],
 "metadata": {
  "kernelspec": {
   "display_name": "Python 3",
   "language": "python",
   "name": "python3"
  },
  "language_info": {
   "codemirror_mode": {
    "name": "ipython",
    "version": 3
   },
   "file_extension": ".py",
   "mimetype": "text/x-python",
   "name": "python",
   "nbconvert_exporter": "python",
   "pygments_lexer": "ipython3",
   "version": "3.11.7"
  }
 },
 "nbformat": 4,
 "nbformat_minor": 2
}
