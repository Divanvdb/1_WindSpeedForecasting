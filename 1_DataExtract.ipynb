{
 "cells": [
  {
   "cell_type": "code",
   "execution_count": 1,
   "metadata": {},
   "outputs": [
    {
     "name": "stdout",
     "output_type": "stream",
     "text": [
      "Requesting data for year: 2024, month: 8, days: ['21', '22', '23', '24', '25', '26', '27', '28']\n"
     ]
    },
    {
     "name": "stderr",
     "output_type": "stream",
     "text": [
      "2024-09-02 11:59:55,706 INFO Welcome to the CDS.\n",
      " As per our announcements on the Forum, this instance of CDS will soon be decommissioned.\n",
      " Please update your cdsapi package to a version >=0.7.0, create an account on CDS-Beta and update your .cdsapirc file. We strongly recommend users to check our Guidelines at https://confluence.ecmwf.int/x/uINmFw\n",
      " The current legacy system will be kept for a while, but we will reduce resources gradually until full decommissioning in September 2024.\n",
      "2024-09-02 11:59:55,709 WARNING MOVE TO CDS-Beta\n",
      "2024-09-02 11:59:55,709 INFO Sending request to https://cds.climate.copernicus.eu/api/v2/resources/reanalysis-era5-pressure-levels\n",
      "2024-09-02 11:59:55,924 INFO Request is queued\n",
      "2024-09-02 12:16:25,083 INFO Request is completed\n",
      "2024-09-02 12:16:25,123 INFO Downloading https://download-0016.copernicus-climate.eu/cache-compute-0016/cache/data5/adaptor.mars.internal-1725272164.6760519-21325-17-1a29dfb0-fa7e-449b-ad47-3a4f11af957e.nc to data/last_week_data_2024_8.nc (4.1M)\n",
      "2024-09-02 12:16:31,679 INFO Download rate 644.7K/s \n"
     ]
    }
   ],
   "source": [
    "from datetime import datetime, timedelta\n",
    "import cdsapi\n",
    "\n",
    "c = cdsapi.Client()\n",
    "\n",
    "# Assuming 'c' is your Copernicus client\n",
    "\n",
    "# Get the current date\n",
    "now_date = datetime.utcnow()\n",
    "\n",
    "# Calculate the date 5 days ago from now\n",
    "five_days_ago = now_date - timedelta(days=5)\n",
    "\n",
    "# Calculate the start and end date for the last week from five_days_ago\n",
    "start_date = five_days_ago - timedelta(weeks=1)\n",
    "end_date = five_days_ago\n",
    "\n",
    "# Generate the list of dates for the last week from five_days_ago\n",
    "dates = [start_date + timedelta(days=x) for x in range((end_date - start_date).days + 1)]\n",
    "\n",
    "# Determine the year and month for each date\n",
    "dates_by_month = {}\n",
    "for date in dates:\n",
    "    year_month = (date.year, date.month)\n",
    "    if year_month not in dates_by_month:\n",
    "        dates_by_month[year_month] = []\n",
    "    dates_by_month[year_month].append(date.strftime(\"%d\"))\n",
    "\n",
    "# Print debug info\n",
    "for (year, month), days in dates_by_month.items():\n",
    "    print(f\"Requesting data for year: {year}, month: {month}, days: {days}\")\n",
    "\n",
    "# Make requests for each month\n",
    "for (year, month), days in dates_by_month.items():\n",
    "    c.retrieve(\n",
    "        'reanalysis-era5-pressure-levels',\n",
    "        {\n",
    "            'product_type': 'reanalysis',\n",
    "            'format': 'netcdf',\n",
    "            'variable': [\n",
    "                'specific_humidity', 'temperature', 'u_component_of_wind',\n",
    "                'v_component_of_wind', 'vertical_velocity',\n",
    "            ],\n",
    "            'pressure_level': '850',\n",
    "            'year': year,\n",
    "            'month': month,\n",
    "            'day': days,\n",
    "            'time': [\n",
    "                '00:00', '01:00', '02:00',\n",
    "                '03:00', '04:00', '05:00',\n",
    "                '06:00', '07:00', '08:00',\n",
    "                '09:00', '10:00', '11:00',\n",
    "                '12:00', '13:00', '14:00',\n",
    "                '15:00', '16:00', '17:00',\n",
    "                '18:00', '19:00', '20:00',\n",
    "                '21:00', '22:00', '23:00',\n",
    "            ],\n",
    "            'area': [\n",
    "                -26.863281, 15.556641, -35.13787,\n",
    "                33.266602,\n",
    "            ]\n",
    "        },\n",
    "        f'data/last_week_data_{year}_{month}.nc'\n",
    "    )\n"
   ]
  }
 ],
 "metadata": {
  "kernelspec": {
   "display_name": "Python 3",
   "language": "python",
   "name": "python3"
  },
  "language_info": {
   "codemirror_mode": {
    "name": "ipython",
    "version": 3
   },
   "file_extension": ".py",
   "mimetype": "text/x-python",
   "name": "python",
   "nbconvert_exporter": "python",
   "pygments_lexer": "ipython3",
   "version": "3.11.7"
  }
 },
 "nbformat": 4,
 "nbformat_minor": 2
}
